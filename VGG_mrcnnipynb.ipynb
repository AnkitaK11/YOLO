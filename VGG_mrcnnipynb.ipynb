{
  "nbformat": 4,
  "nbformat_minor": 0,
  "metadata": {
    "colab": {
      "provenance": [],
      "authorship_tag": "ABX9TyMkzFn4A8UNp2f8yh3utpQs",
      "include_colab_link": true
    },
    "kernelspec": {
      "name": "python3",
      "display_name": "Python 3"
    },
    "language_info": {
      "name": "python"
    }
  },
  "cells": [
    {
      "cell_type": "markdown",
      "metadata": {
        "id": "view-in-github",
        "colab_type": "text"
      },
      "source": [
        "<a href=\"https://colab.research.google.com/github/ankita-kanawade/YOLO/blob/main/VGG_mrcnnipynb.ipynb\" target=\"_parent\"><img src=\"https://colab.research.google.com/assets/colab-badge.svg\" alt=\"Open In Colab\"/></a>"
      ]
    },
    {
      "cell_type": "code",
      "execution_count": 2,
      "metadata": {
        "colab": {
          "base_uri": "https://localhost:8080/"
        },
        "id": "e8ga3lTL0TMY",
        "outputId": "5a8e7bf4-0a3d-4993-e4ec-30bbc9e4c6b9"
      },
      "outputs": [
        {
          "output_type": "stream",
          "name": "stdout",
          "text": [
            "Cloning into 'Mask_RCNN'...\n",
            "remote: Enumerating objects: 86, done.\u001b[K\n",
            "remote: Counting objects: 100% (86/86), done.\u001b[K\n",
            "remote: Compressing objects: 100% (85/85), done.\u001b[K\n",
            "remote: Total 86 (delta 0), reused 76 (delta 0), pack-reused 0\u001b[K\n",
            "Receiving objects: 100% (86/86), 73.67 MiB | 33.12 MiB/s, done.\n"
          ]
        }
      ],
      "source": [
        "!git clone --depth 1 --branch master https://github.com/matterport/Mask_RCNN.git\n",
        "!mv Mask_RCNN/mrcnn ./mrcnn\n",
        "!rm -rf Mask_RCNN"
      ]
    },
    {
      "cell_type": "code",
      "source": [],
      "metadata": {
        "id": "1CIB8f660WVy"
      },
      "execution_count": null,
      "outputs": []
    }
  ]
}